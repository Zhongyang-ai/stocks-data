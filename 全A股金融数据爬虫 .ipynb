{
 "cells": [
  {
   "cell_type": "markdown",
   "metadata": {},
   "source": [
    "# 1. 爬虫设计"
   ]
  },
  {
   "cell_type": "code",
   "execution_count": 38,
   "metadata": {},
   "outputs": [],
   "source": [
    "import numpy as np\n",
    "import pandas as pd\n",
    "import matplotlib.pyplot as plt\n",
    "import seaborn as sns\n",
    "plt.style.use('seaborn')\n",
    "import requests\n",
    "import re\n",
    "import talib as ta"
   ]
  },
  {
   "cell_type": "code",
   "execution_count": 39,
   "metadata": {},
   "outputs": [],
   "source": [
    "#显示所有列\n",
    "pd.set_option('display.max_columns', None)\n",
    "#显示列不换行\n",
    "pd.set_option('expand_frame_repr',False)\n",
    "#显示行数\n",
    "pd.set_option('display.max_rows', None)\n",
    "\n",
    "url='http://66.push2.eastmoney.com/api/qt/clist/get?cb=jQuery1124009640769137954641_1607884920838&pn=1&pz=100000&po=1&np=1&ut=bd1d9ddb04089700cf9c27f6f7426281&fltt=2&invt=2&fid=f3&fs=m:0+t:6,m:0+t:13,m:0+t:80,m:1+t:2,m:1+t:23&fields=f1,f2,f3,f4,f5,f6,f7,f8,f9,f10,f12,f13,f14,f15,f16,f17,f18,f20,f21,f23,f24,f25,f22,f11,f62,f128,f136,f115,f152&_=1607884920931'\n",
    "# 将pz设置一个较大的值即可获取网页所有数据避免翻页\n",
    "html=requests.get(url)\n",
    "datas=re.compile('({\"f1\":.*?})',re.S).findall(html.text)\n",
    "labels = ['序号','代码', '名称', '最新价', '涨跌幅', '涨跌额', '成交量(手)', '成交额', '振幅', '最高', '最低', '今天', '昨收', '量比', '换手率', '市盈率(动态)',\n",
    "              '市净率']\n",
    "row_index = 0\n",
    "df=pd.DataFrame(columns=labels)\n",
    "for data in datas:\n",
    "\n",
    "    dict = eval(data)\n",
    "    row=[row_index,str(dict['f12']),str(dict['f14']),dict['f2'],dict['f3'],dict['f4'],dict['f5'],dict['f6'],dict['f7'],dict['f15'],dict['f16'],dict['f17'],dict['f18'],dict['f10'],dict['f8'],dict['f9'],dict['f23']]\n",
    "    df_row=[row]\n",
    "    df=df.append({'序号':row_index,'代码':dict['f12'], '名称':dict['f14'], '最新价':dict['f2'], '涨跌幅':dict['f3'], '涨跌额':dict['f4'], '成交量(手)':dict['f5'], '成交额':dict['f6'], '振幅':dict['f7'], '最高':dict['f15'], '最低':dict['f16'], '今天':dict['f17'], '昨收':dict['f18'], '量比':dict['f10'], '换手率':dict['f8'], '市盈率(动态)':dict['f9'],'市净率':dict['f23']},ignore_index=True)\n",
    "    row_index += 1\n",
    "\n"
   ]
  },
  {
   "cell_type": "markdown",
   "metadata": {},
   "source": [
    "# 数据处理"
   ]
  },
  {
   "cell_type": "code",
   "execution_count": 40,
   "metadata": {},
   "outputs": [
    {
     "data": {
      "text/html": [
       "<div>\n",
       "<style scoped>\n",
       "    .dataframe tbody tr th:only-of-type {\n",
       "        vertical-align: middle;\n",
       "    }\n",
       "\n",
       "    .dataframe tbody tr th {\n",
       "        vertical-align: top;\n",
       "    }\n",
       "\n",
       "    .dataframe thead th {\n",
       "        text-align: right;\n",
       "    }\n",
       "</style>\n",
       "<table border=\"1\" class=\"dataframe\">\n",
       "  <thead>\n",
       "    <tr style=\"text-align: right;\">\n",
       "      <th></th>\n",
       "      <th>序号</th>\n",
       "      <th>代码</th>\n",
       "      <th>名称</th>\n",
       "      <th>最新价</th>\n",
       "      <th>涨跌幅</th>\n",
       "      <th>涨跌额</th>\n",
       "      <th>成交量(手)</th>\n",
       "      <th>成交额</th>\n",
       "      <th>振幅</th>\n",
       "      <th>最高</th>\n",
       "      <th>最低</th>\n",
       "      <th>今天</th>\n",
       "      <th>昨收</th>\n",
       "      <th>量比</th>\n",
       "      <th>换手率</th>\n",
       "      <th>市盈率(动态)</th>\n",
       "      <th>市净率</th>\n",
       "    </tr>\n",
       "  </thead>\n",
       "  <tbody>\n",
       "    <tr>\n",
       "      <th>0</th>\n",
       "      <td>0</td>\n",
       "      <td>688510</td>\n",
       "      <td>N航亚</td>\n",
       "      <td>37.18</td>\n",
       "      <td>355.08</td>\n",
       "      <td>29.01</td>\n",
       "      <td>489326</td>\n",
       "      <td>1.72351e+09</td>\n",
       "      <td>182.37</td>\n",
       "      <td>45.5</td>\n",
       "      <td>30.6</td>\n",
       "      <td>35</td>\n",
       "      <td>8.17</td>\n",
       "      <td>-</td>\n",
       "      <td>98.96</td>\n",
       "      <td>182.68</td>\n",
       "      <td>10.45</td>\n",
       "    </tr>\n",
       "    <tr>\n",
       "      <th>1</th>\n",
       "      <td>1</td>\n",
       "      <td>000995</td>\n",
       "      <td>皇台酒业</td>\n",
       "      <td>31</td>\n",
       "      <td>314.99</td>\n",
       "      <td>23.53</td>\n",
       "      <td>209699</td>\n",
       "      <td>6.11192e+08</td>\n",
       "      <td>80.32</td>\n",
       "      <td>31</td>\n",
       "      <td>25</td>\n",
       "      <td>25</td>\n",
       "      <td>7.47</td>\n",
       "      <td>2.28</td>\n",
       "      <td>11.82</td>\n",
       "      <td>1030.5</td>\n",
       "      <td>53.11</td>\n",
       "    </tr>\n",
       "    <tr>\n",
       "      <th>2</th>\n",
       "      <td>2</td>\n",
       "      <td>688608</td>\n",
       "      <td>N恒玄</td>\n",
       "      <td>362</td>\n",
       "      <td>123.36</td>\n",
       "      <td>199.93</td>\n",
       "      <td>158149</td>\n",
       "      <td>5.94139e+09</td>\n",
       "      <td>30.59</td>\n",
       "      <td>403</td>\n",
       "      <td>353.42</td>\n",
       "      <td>391</td>\n",
       "      <td>162.07</td>\n",
       "      <td>-</td>\n",
       "      <td>68.82</td>\n",
       "      <td>278.46</td>\n",
       "      <td>8.03</td>\n",
       "    </tr>\n",
       "    <tr>\n",
       "      <th>3</th>\n",
       "      <td>3</td>\n",
       "      <td>300106</td>\n",
       "      <td>西部牧业</td>\n",
       "      <td>15.17</td>\n",
       "      <td>13.46</td>\n",
       "      <td>1.8</td>\n",
       "      <td>475727</td>\n",
       "      <td>6.87301e+08</td>\n",
       "      <td>17.2</td>\n",
       "      <td>15.65</td>\n",
       "      <td>13.35</td>\n",
       "      <td>13.47</td>\n",
       "      <td>13.37</td>\n",
       "      <td>1.56</td>\n",
       "      <td>22.51</td>\n",
       "      <td>377.32</td>\n",
       "      <td>5.6</td>\n",
       "    </tr>\n",
       "    <tr>\n",
       "      <th>4</th>\n",
       "      <td>4</td>\n",
       "      <td>300208</td>\n",
       "      <td>青岛中程</td>\n",
       "      <td>14.35</td>\n",
       "      <td>12.46</td>\n",
       "      <td>1.59</td>\n",
       "      <td>849974</td>\n",
       "      <td>1.22043e+09</td>\n",
       "      <td>13.87</td>\n",
       "      <td>15.28</td>\n",
       "      <td>13.51</td>\n",
       "      <td>13.99</td>\n",
       "      <td>12.76</td>\n",
       "      <td>1.58</td>\n",
       "      <td>12.37</td>\n",
       "      <td>-530.68</td>\n",
       "      <td>6.14</td>\n",
       "    </tr>\n",
       "  </tbody>\n",
       "</table>\n",
       "</div>"
      ],
      "text/plain": [
       "  序号      代码    名称    最新价     涨跌幅     涨跌额  成交量(手)          成交额      振幅     最高      最低     今天      昨收    量比    换手率 市盈率(动态)    市净率\n",
       "0  0  688510   N航亚  37.18  355.08   29.01  489326  1.72351e+09  182.37   45.5    30.6     35    8.17     -  98.96  182.68  10.45\n",
       "1  1  000995  皇台酒业     31  314.99   23.53  209699  6.11192e+08   80.32     31      25     25    7.47  2.28  11.82  1030.5  53.11\n",
       "2  2  688608   N恒玄    362  123.36  199.93  158149  5.94139e+09   30.59    403  353.42    391  162.07     -  68.82  278.46   8.03\n",
       "3  3  300106  西部牧业  15.17   13.46     1.8  475727  6.87301e+08    17.2  15.65   13.35  13.47   13.37  1.56  22.51  377.32    5.6\n",
       "4  4  300208  青岛中程  14.35   12.46    1.59  849974  1.22043e+09   13.87  15.28   13.51  13.99   12.76  1.58  12.37 -530.68   6.14"
      ]
     },
     "execution_count": 40,
     "metadata": {},
     "output_type": "execute_result"
    }
   ],
   "source": [
    "df.head()"
   ]
  },
  {
   "cell_type": "code",
   "execution_count": 41,
   "metadata": {},
   "outputs": [
    {
     "data": {
      "text/plain": [
       "Index(['序号', '代码', '名称', '最新价', '涨跌幅', '涨跌额', '成交量(手)', '成交额', '振幅', '最高',\n",
       "       '最低', '今天', '昨收', '量比', '换手率', '市盈率(动态)', '市净率'],\n",
       "      dtype='object')"
      ]
     },
     "execution_count": 41,
     "metadata": {},
     "output_type": "execute_result"
    }
   ],
   "source": [
    "df.columns"
   ]
  },
  {
   "cell_type": "code",
   "execution_count": 42,
   "metadata": {},
   "outputs": [],
   "source": [
    "for i in df.columns:\n",
    "    df.loc[df[i] == '-', i] = np.nan"
   ]
  },
  {
   "cell_type": "code",
   "execution_count": 43,
   "metadata": {},
   "outputs": [
    {
     "data": {
      "text/html": [
       "<div>\n",
       "<style scoped>\n",
       "    .dataframe tbody tr th:only-of-type {\n",
       "        vertical-align: middle;\n",
       "    }\n",
       "\n",
       "    .dataframe tbody tr th {\n",
       "        vertical-align: top;\n",
       "    }\n",
       "\n",
       "    .dataframe thead th {\n",
       "        text-align: right;\n",
       "    }\n",
       "</style>\n",
       "<table border=\"1\" class=\"dataframe\">\n",
       "  <thead>\n",
       "    <tr style=\"text-align: right;\">\n",
       "      <th></th>\n",
       "      <th>序号</th>\n",
       "      <th>代码</th>\n",
       "      <th>名称</th>\n",
       "      <th>最新价</th>\n",
       "      <th>涨跌幅</th>\n",
       "      <th>涨跌额</th>\n",
       "      <th>成交量(手)</th>\n",
       "      <th>成交额</th>\n",
       "      <th>振幅</th>\n",
       "      <th>最高</th>\n",
       "      <th>最低</th>\n",
       "      <th>今天</th>\n",
       "      <th>昨收</th>\n",
       "      <th>量比</th>\n",
       "      <th>换手率</th>\n",
       "      <th>市盈率(动态)</th>\n",
       "      <th>市净率</th>\n",
       "    </tr>\n",
       "  </thead>\n",
       "  <tbody>\n",
       "    <tr>\n",
       "      <th>0</th>\n",
       "      <td>0</td>\n",
       "      <td>688510</td>\n",
       "      <td>N航亚</td>\n",
       "      <td>37.18</td>\n",
       "      <td>355.08</td>\n",
       "      <td>29.01</td>\n",
       "      <td>489326</td>\n",
       "      <td>1.72351e+09</td>\n",
       "      <td>182.37</td>\n",
       "      <td>45.5</td>\n",
       "      <td>30.6</td>\n",
       "      <td>35</td>\n",
       "      <td>8.17</td>\n",
       "      <td>NaN</td>\n",
       "      <td>98.96</td>\n",
       "      <td>182.68</td>\n",
       "      <td>10.45</td>\n",
       "    </tr>\n",
       "    <tr>\n",
       "      <th>1</th>\n",
       "      <td>1</td>\n",
       "      <td>000995</td>\n",
       "      <td>皇台酒业</td>\n",
       "      <td>31</td>\n",
       "      <td>314.99</td>\n",
       "      <td>23.53</td>\n",
       "      <td>209699</td>\n",
       "      <td>6.11192e+08</td>\n",
       "      <td>80.32</td>\n",
       "      <td>31</td>\n",
       "      <td>25</td>\n",
       "      <td>25</td>\n",
       "      <td>7.47</td>\n",
       "      <td>2.28</td>\n",
       "      <td>11.82</td>\n",
       "      <td>1030.5</td>\n",
       "      <td>53.11</td>\n",
       "    </tr>\n",
       "    <tr>\n",
       "      <th>2</th>\n",
       "      <td>2</td>\n",
       "      <td>688608</td>\n",
       "      <td>N恒玄</td>\n",
       "      <td>362</td>\n",
       "      <td>123.36</td>\n",
       "      <td>199.93</td>\n",
       "      <td>158149</td>\n",
       "      <td>5.94139e+09</td>\n",
       "      <td>30.59</td>\n",
       "      <td>403</td>\n",
       "      <td>353.42</td>\n",
       "      <td>391</td>\n",
       "      <td>162.07</td>\n",
       "      <td>NaN</td>\n",
       "      <td>68.82</td>\n",
       "      <td>278.46</td>\n",
       "      <td>8.03</td>\n",
       "    </tr>\n",
       "    <tr>\n",
       "      <th>3</th>\n",
       "      <td>3</td>\n",
       "      <td>300106</td>\n",
       "      <td>西部牧业</td>\n",
       "      <td>15.17</td>\n",
       "      <td>13.46</td>\n",
       "      <td>1.8</td>\n",
       "      <td>475727</td>\n",
       "      <td>6.87301e+08</td>\n",
       "      <td>17.2</td>\n",
       "      <td>15.65</td>\n",
       "      <td>13.35</td>\n",
       "      <td>13.47</td>\n",
       "      <td>13.37</td>\n",
       "      <td>1.56</td>\n",
       "      <td>22.51</td>\n",
       "      <td>377.32</td>\n",
       "      <td>5.6</td>\n",
       "    </tr>\n",
       "    <tr>\n",
       "      <th>4</th>\n",
       "      <td>4</td>\n",
       "      <td>300208</td>\n",
       "      <td>青岛中程</td>\n",
       "      <td>14.35</td>\n",
       "      <td>12.46</td>\n",
       "      <td>1.59</td>\n",
       "      <td>849974</td>\n",
       "      <td>1.22043e+09</td>\n",
       "      <td>13.87</td>\n",
       "      <td>15.28</td>\n",
       "      <td>13.51</td>\n",
       "      <td>13.99</td>\n",
       "      <td>12.76</td>\n",
       "      <td>1.58</td>\n",
       "      <td>12.37</td>\n",
       "      <td>-530.68</td>\n",
       "      <td>6.14</td>\n",
       "    </tr>\n",
       "  </tbody>\n",
       "</table>\n",
       "</div>"
      ],
      "text/plain": [
       "  序号      代码    名称    最新价     涨跌幅     涨跌额  成交量(手)          成交额      振幅     最高      最低     今天      昨收    量比    换手率 市盈率(动态)    市净率\n",
       "0  0  688510   N航亚  37.18  355.08   29.01  489326  1.72351e+09  182.37   45.5    30.6     35    8.17   NaN  98.96  182.68  10.45\n",
       "1  1  000995  皇台酒业     31  314.99   23.53  209699  6.11192e+08   80.32     31      25     25    7.47  2.28  11.82  1030.5  53.11\n",
       "2  2  688608   N恒玄    362  123.36  199.93  158149  5.94139e+09   30.59    403  353.42    391  162.07   NaN  68.82  278.46   8.03\n",
       "3  3  300106  西部牧业  15.17   13.46     1.8  475727  6.87301e+08    17.2  15.65   13.35  13.47   13.37  1.56  22.51  377.32    5.6\n",
       "4  4  300208  青岛中程  14.35   12.46    1.59  849974  1.22043e+09   13.87  15.28   13.51  13.99   12.76  1.58  12.37 -530.68   6.14"
      ]
     },
     "execution_count": 43,
     "metadata": {},
     "output_type": "execute_result"
    }
   ],
   "source": [
    "df.head()"
   ]
  },
  {
   "cell_type": "code",
   "execution_count": 44,
   "metadata": {},
   "outputs": [],
   "source": [
    "import datetime\n",
    "today=datetime.date.today()"
   ]
  },
  {
   "cell_type": "code",
   "execution_count": 45,
   "metadata": {},
   "outputs": [],
   "source": [
    "df['Date'] = today   #加上每天的日期"
   ]
  },
  {
   "cell_type": "code",
   "execution_count": 46,
   "metadata": {},
   "outputs": [
    {
     "data": {
      "text/html": [
       "<div>\n",
       "<style scoped>\n",
       "    .dataframe tbody tr th:only-of-type {\n",
       "        vertical-align: middle;\n",
       "    }\n",
       "\n",
       "    .dataframe tbody tr th {\n",
       "        vertical-align: top;\n",
       "    }\n",
       "\n",
       "    .dataframe thead th {\n",
       "        text-align: right;\n",
       "    }\n",
       "</style>\n",
       "<table border=\"1\" class=\"dataframe\">\n",
       "  <thead>\n",
       "    <tr style=\"text-align: right;\">\n",
       "      <th></th>\n",
       "      <th>序号</th>\n",
       "      <th>代码</th>\n",
       "      <th>名称</th>\n",
       "      <th>最新价</th>\n",
       "      <th>涨跌幅</th>\n",
       "      <th>涨跌额</th>\n",
       "      <th>成交量(手)</th>\n",
       "      <th>成交额</th>\n",
       "      <th>振幅</th>\n",
       "      <th>最高</th>\n",
       "      <th>最低</th>\n",
       "      <th>今天</th>\n",
       "      <th>昨收</th>\n",
       "      <th>量比</th>\n",
       "      <th>换手率</th>\n",
       "      <th>市盈率(动态)</th>\n",
       "      <th>市净率</th>\n",
       "      <th>Date</th>\n",
       "    </tr>\n",
       "  </thead>\n",
       "  <tbody>\n",
       "    <tr>\n",
       "      <th>0</th>\n",
       "      <td>0</td>\n",
       "      <td>688510</td>\n",
       "      <td>N航亚</td>\n",
       "      <td>37.18</td>\n",
       "      <td>355.08</td>\n",
       "      <td>29.01</td>\n",
       "      <td>489326</td>\n",
       "      <td>1.72351e+09</td>\n",
       "      <td>182.37</td>\n",
       "      <td>45.5</td>\n",
       "      <td>30.6</td>\n",
       "      <td>35</td>\n",
       "      <td>8.17</td>\n",
       "      <td>NaN</td>\n",
       "      <td>98.96</td>\n",
       "      <td>182.68</td>\n",
       "      <td>10.45</td>\n",
       "      <td>2020-12-17</td>\n",
       "    </tr>\n",
       "    <tr>\n",
       "      <th>1</th>\n",
       "      <td>1</td>\n",
       "      <td>000995</td>\n",
       "      <td>皇台酒业</td>\n",
       "      <td>31</td>\n",
       "      <td>314.99</td>\n",
       "      <td>23.53</td>\n",
       "      <td>209699</td>\n",
       "      <td>6.11192e+08</td>\n",
       "      <td>80.32</td>\n",
       "      <td>31</td>\n",
       "      <td>25</td>\n",
       "      <td>25</td>\n",
       "      <td>7.47</td>\n",
       "      <td>2.28</td>\n",
       "      <td>11.82</td>\n",
       "      <td>1030.5</td>\n",
       "      <td>53.11</td>\n",
       "      <td>2020-12-17</td>\n",
       "    </tr>\n",
       "    <tr>\n",
       "      <th>2</th>\n",
       "      <td>2</td>\n",
       "      <td>688608</td>\n",
       "      <td>N恒玄</td>\n",
       "      <td>362</td>\n",
       "      <td>123.36</td>\n",
       "      <td>199.93</td>\n",
       "      <td>158149</td>\n",
       "      <td>5.94139e+09</td>\n",
       "      <td>30.59</td>\n",
       "      <td>403</td>\n",
       "      <td>353.42</td>\n",
       "      <td>391</td>\n",
       "      <td>162.07</td>\n",
       "      <td>NaN</td>\n",
       "      <td>68.82</td>\n",
       "      <td>278.46</td>\n",
       "      <td>8.03</td>\n",
       "      <td>2020-12-17</td>\n",
       "    </tr>\n",
       "    <tr>\n",
       "      <th>3</th>\n",
       "      <td>3</td>\n",
       "      <td>300106</td>\n",
       "      <td>西部牧业</td>\n",
       "      <td>15.17</td>\n",
       "      <td>13.46</td>\n",
       "      <td>1.8</td>\n",
       "      <td>475727</td>\n",
       "      <td>6.87301e+08</td>\n",
       "      <td>17.2</td>\n",
       "      <td>15.65</td>\n",
       "      <td>13.35</td>\n",
       "      <td>13.47</td>\n",
       "      <td>13.37</td>\n",
       "      <td>1.56</td>\n",
       "      <td>22.51</td>\n",
       "      <td>377.32</td>\n",
       "      <td>5.6</td>\n",
       "      <td>2020-12-17</td>\n",
       "    </tr>\n",
       "    <tr>\n",
       "      <th>4</th>\n",
       "      <td>4</td>\n",
       "      <td>300208</td>\n",
       "      <td>青岛中程</td>\n",
       "      <td>14.35</td>\n",
       "      <td>12.46</td>\n",
       "      <td>1.59</td>\n",
       "      <td>849974</td>\n",
       "      <td>1.22043e+09</td>\n",
       "      <td>13.87</td>\n",
       "      <td>15.28</td>\n",
       "      <td>13.51</td>\n",
       "      <td>13.99</td>\n",
       "      <td>12.76</td>\n",
       "      <td>1.58</td>\n",
       "      <td>12.37</td>\n",
       "      <td>-530.68</td>\n",
       "      <td>6.14</td>\n",
       "      <td>2020-12-17</td>\n",
       "    </tr>\n",
       "  </tbody>\n",
       "</table>\n",
       "</div>"
      ],
      "text/plain": [
       "  序号      代码    名称    最新价     涨跌幅     涨跌额  成交量(手)          成交额      振幅     最高      最低     今天      昨收    量比    换手率 市盈率(动态)    市净率        Date\n",
       "0  0  688510   N航亚  37.18  355.08   29.01  489326  1.72351e+09  182.37   45.5    30.6     35    8.17   NaN  98.96  182.68  10.45  2020-12-17\n",
       "1  1  000995  皇台酒业     31  314.99   23.53  209699  6.11192e+08   80.32     31      25     25    7.47  2.28  11.82  1030.5  53.11  2020-12-17\n",
       "2  2  688608   N恒玄    362  123.36  199.93  158149  5.94139e+09   30.59    403  353.42    391  162.07   NaN  68.82  278.46   8.03  2020-12-17\n",
       "3  3  300106  西部牧业  15.17   13.46     1.8  475727  6.87301e+08    17.2  15.65   13.35  13.47   13.37  1.56  22.51  377.32    5.6  2020-12-17\n",
       "4  4  300208  青岛中程  14.35   12.46    1.59  849974  1.22043e+09   13.87  15.28   13.51  13.99   12.76  1.58  12.37 -530.68   6.14  2020-12-17"
      ]
     },
     "execution_count": 46,
     "metadata": {},
     "output_type": "execute_result"
    }
   ],
   "source": [
    "df.head()"
   ]
  },
  {
   "cell_type": "markdown",
   "metadata": {},
   "source": [
    "# 数据存储"
   ]
  },
  {
   "cell_type": "code",
   "execution_count": 47,
   "metadata": {},
   "outputs": [],
   "source": [
    "df.to_csv(f'A股_{today}.csv',encoding=\"utf-8\",index=False) #储存每日最新的数据"
   ]
  },
  {
   "cell_type": "code",
   "execution_count": 61,
   "metadata": {},
   "outputs": [],
   "source": [
    "df.to_csv('A股_All.csv', encoding=\"utf-8\",index=False, mode = \"a\") # 将mode改为“a”,储存所有数据，每次运行数据将自动更新在该csv文件中"
   ]
  },
  {
   "cell_type": "code",
   "execution_count": 49,
   "metadata": {},
   "outputs": [],
   "source": [
    "df.to_excel(f'C:/A股数据/A股_{today}.xlsx') # 存为Excel格式的数据"
   ]
  },
  {
   "cell_type": "markdown",
   "metadata": {},
   "source": [
    "# 统计分析"
   ]
  },
  {
   "cell_type": "code",
   "execution_count": 50,
   "metadata": {},
   "outputs": [
    {
     "data": {
      "text/html": [
       "<div>\n",
       "<style scoped>\n",
       "    .dataframe tbody tr th:only-of-type {\n",
       "        vertical-align: middle;\n",
       "    }\n",
       "\n",
       "    .dataframe tbody tr th {\n",
       "        vertical-align: top;\n",
       "    }\n",
       "\n",
       "    .dataframe thead th {\n",
       "        text-align: right;\n",
       "    }\n",
       "</style>\n",
       "<table border=\"1\" class=\"dataframe\">\n",
       "  <thead>\n",
       "    <tr style=\"text-align: right;\">\n",
       "      <th></th>\n",
       "      <th>代码</th>\n",
       "      <th>名称</th>\n",
       "    </tr>\n",
       "  </thead>\n",
       "  <tbody>\n",
       "    <tr>\n",
       "      <th>203</th>\n",
       "      <td>002610</td>\n",
       "      <td>爱康科技</td>\n",
       "    </tr>\n",
       "  </tbody>\n",
       "</table>\n",
       "</div>"
      ],
      "text/plain": [
       "         代码    名称\n",
       "203  002610  爱康科技"
      ]
     },
     "execution_count": 50,
     "metadata": {},
     "output_type": "execute_result"
    }
   ],
   "source": [
    "df.loc[df['成交量(手)'] == df['成交量(手)'].max(), ['代码', '名称']]"
   ]
  },
  {
   "cell_type": "code",
   "execution_count": 51,
   "metadata": {},
   "outputs": [
    {
     "data": {
      "text/html": [
       "<div>\n",
       "<style scoped>\n",
       "    .dataframe tbody tr th:only-of-type {\n",
       "        vertical-align: middle;\n",
       "    }\n",
       "\n",
       "    .dataframe tbody tr th {\n",
       "        vertical-align: top;\n",
       "    }\n",
       "\n",
       "    .dataframe thead th {\n",
       "        text-align: right;\n",
       "    }\n",
       "</style>\n",
       "<table border=\"1\" class=\"dataframe\">\n",
       "  <thead>\n",
       "    <tr style=\"text-align: right;\">\n",
       "      <th></th>\n",
       "      <th>代码</th>\n",
       "      <th>名称</th>\n",
       "    </tr>\n",
       "  </thead>\n",
       "  <tbody>\n",
       "    <tr>\n",
       "      <th>26</th>\n",
       "      <td>003020</td>\n",
       "      <td>立方制药</td>\n",
       "    </tr>\n",
       "  </tbody>\n",
       "</table>\n",
       "</div>"
      ],
      "text/plain": [
       "        代码    名称\n",
       "26  003020  立方制药"
      ]
     },
     "execution_count": 51,
     "metadata": {},
     "output_type": "execute_result"
    }
   ],
   "source": [
    "df.loc[df['成交量(手)'] == df['成交量(手)'].min(), ['代码', '名称']]"
   ]
  },
  {
   "cell_type": "code",
   "execution_count": 52,
   "metadata": {},
   "outputs": [
    {
     "data": {
      "text/html": [
       "<div>\n",
       "<style scoped>\n",
       "    .dataframe tbody tr th:only-of-type {\n",
       "        vertical-align: middle;\n",
       "    }\n",
       "\n",
       "    .dataframe tbody tr th {\n",
       "        vertical-align: top;\n",
       "    }\n",
       "\n",
       "    .dataframe thead th {\n",
       "        text-align: right;\n",
       "    }\n",
       "</style>\n",
       "<table border=\"1\" class=\"dataframe\">\n",
       "  <thead>\n",
       "    <tr style=\"text-align: right;\">\n",
       "      <th></th>\n",
       "      <th>代码</th>\n",
       "      <th>名称</th>\n",
       "    </tr>\n",
       "  </thead>\n",
       "  <tbody>\n",
       "    <tr>\n",
       "      <th>0</th>\n",
       "      <td>688510</td>\n",
       "      <td>N航亚</td>\n",
       "    </tr>\n",
       "  </tbody>\n",
       "</table>\n",
       "</div>"
      ],
      "text/plain": [
       "       代码   名称\n",
       "0  688510  N航亚"
      ]
     },
     "execution_count": 52,
     "metadata": {},
     "output_type": "execute_result"
    }
   ],
   "source": [
    "df.loc[df['涨跌幅'] == df['涨跌幅'].max(), ['代码', '名称']]"
   ]
  },
  {
   "cell_type": "code",
   "execution_count": 53,
   "metadata": {},
   "outputs": [
    {
     "data": {
      "text/html": [
       "<div>\n",
       "<style scoped>\n",
       "    .dataframe tbody tr th:only-of-type {\n",
       "        vertical-align: middle;\n",
       "    }\n",
       "\n",
       "    .dataframe tbody tr th {\n",
       "        vertical-align: top;\n",
       "    }\n",
       "\n",
       "    .dataframe thead th {\n",
       "        text-align: right;\n",
       "    }\n",
       "</style>\n",
       "<table border=\"1\" class=\"dataframe\">\n",
       "  <thead>\n",
       "    <tr style=\"text-align: right;\">\n",
       "      <th></th>\n",
       "      <th>代码</th>\n",
       "      <th>名称</th>\n",
       "    </tr>\n",
       "  </thead>\n",
       "  <tbody>\n",
       "    <tr>\n",
       "      <th>4267</th>\n",
       "      <td>300290</td>\n",
       "      <td>荣科科技</td>\n",
       "    </tr>\n",
       "  </tbody>\n",
       "</table>\n",
       "</div>"
      ],
      "text/plain": [
       "          代码    名称\n",
       "4267  300290  荣科科技"
      ]
     },
     "execution_count": 53,
     "metadata": {},
     "output_type": "execute_result"
    }
   ],
   "source": [
    "df.loc[df['涨跌幅'] == df['涨跌幅'].min(), ['代码', '名称']]"
   ]
  },
  {
   "cell_type": "code",
   "execution_count": 54,
   "metadata": {},
   "outputs": [
    {
     "data": {
      "text/html": [
       "<div>\n",
       "<style scoped>\n",
       "    .dataframe tbody tr th:only-of-type {\n",
       "        vertical-align: middle;\n",
       "    }\n",
       "\n",
       "    .dataframe tbody tr th {\n",
       "        vertical-align: top;\n",
       "    }\n",
       "\n",
       "    .dataframe thead th {\n",
       "        text-align: right;\n",
       "    }\n",
       "</style>\n",
       "<table border=\"1\" class=\"dataframe\">\n",
       "  <thead>\n",
       "    <tr style=\"text-align: right;\">\n",
       "      <th></th>\n",
       "      <th>代码</th>\n",
       "      <th>名称</th>\n",
       "    </tr>\n",
       "  </thead>\n",
       "  <tbody>\n",
       "    <tr>\n",
       "      <th>0</th>\n",
       "      <td>688510</td>\n",
       "      <td>N航亚</td>\n",
       "    </tr>\n",
       "  </tbody>\n",
       "</table>\n",
       "</div>"
      ],
      "text/plain": [
       "       代码   名称\n",
       "0  688510  N航亚"
      ]
     },
     "execution_count": 54,
     "metadata": {},
     "output_type": "execute_result"
    }
   ],
   "source": [
    "df.loc[df['换手率'] == df['换手率'].max(), ['代码', '名称']]"
   ]
  },
  {
   "cell_type": "code",
   "execution_count": 55,
   "metadata": {},
   "outputs": [
    {
     "data": {
      "text/html": [
       "<div>\n",
       "<style scoped>\n",
       "    .dataframe tbody tr th:only-of-type {\n",
       "        vertical-align: middle;\n",
       "    }\n",
       "\n",
       "    .dataframe tbody tr th {\n",
       "        vertical-align: top;\n",
       "    }\n",
       "\n",
       "    .dataframe thead th {\n",
       "        text-align: right;\n",
       "    }\n",
       "</style>\n",
       "<table border=\"1\" class=\"dataframe\">\n",
       "  <thead>\n",
       "    <tr style=\"text-align: right;\">\n",
       "      <th></th>\n",
       "      <th>代码</th>\n",
       "      <th>名称</th>\n",
       "    </tr>\n",
       "  </thead>\n",
       "  <tbody>\n",
       "    <tr>\n",
       "      <th>97</th>\n",
       "      <td>600877</td>\n",
       "      <td>ST电能</td>\n",
       "    </tr>\n",
       "    <tr>\n",
       "      <th>2248</th>\n",
       "      <td>000617</td>\n",
       "      <td>中油资本</td>\n",
       "    </tr>\n",
       "  </tbody>\n",
       "</table>\n",
       "</div>"
      ],
      "text/plain": [
       "          代码    名称\n",
       "97    600877  ST电能\n",
       "2248  000617  中油资本"
      ]
     },
     "execution_count": 55,
     "metadata": {},
     "output_type": "execute_result"
    }
   ],
   "source": [
    "df.loc[df['换手率'] == df['换手率'].min(), ['代码', '名称']]"
   ]
  },
  {
   "cell_type": "code",
   "execution_count": 56,
   "metadata": {},
   "outputs": [
    {
     "data": {
      "text/html": [
       "<div>\n",
       "<style scoped>\n",
       "    .dataframe tbody tr th:only-of-type {\n",
       "        vertical-align: middle;\n",
       "    }\n",
       "\n",
       "    .dataframe tbody tr th {\n",
       "        vertical-align: top;\n",
       "    }\n",
       "\n",
       "    .dataframe thead th {\n",
       "        text-align: right;\n",
       "    }\n",
       "</style>\n",
       "<table border=\"1\" class=\"dataframe\">\n",
       "  <thead>\n",
       "    <tr style=\"text-align: right;\">\n",
       "      <th></th>\n",
       "      <th>代码</th>\n",
       "      <th>名称</th>\n",
       "    </tr>\n",
       "  </thead>\n",
       "  <tbody>\n",
       "    <tr>\n",
       "      <th>2348</th>\n",
       "      <td>300006</td>\n",
       "      <td>莱美药业</td>\n",
       "    </tr>\n",
       "  </tbody>\n",
       "</table>\n",
       "</div>"
      ],
      "text/plain": [
       "          代码    名称\n",
       "2348  300006  莱美药业"
      ]
     },
     "execution_count": 56,
     "metadata": {},
     "output_type": "execute_result"
    }
   ],
   "source": [
    "df.loc[df['市盈率(动态)'] == df['市盈率(动态)'].max(), ['代码', '名称']]"
   ]
  },
  {
   "cell_type": "code",
   "execution_count": 57,
   "metadata": {},
   "outputs": [
    {
     "data": {
      "text/html": [
       "<div>\n",
       "<style scoped>\n",
       "    .dataframe tbody tr th:only-of-type {\n",
       "        vertical-align: middle;\n",
       "    }\n",
       "\n",
       "    .dataframe tbody tr th {\n",
       "        vertical-align: top;\n",
       "    }\n",
       "\n",
       "    .dataframe thead th {\n",
       "        text-align: right;\n",
       "    }\n",
       "</style>\n",
       "<table border=\"1\" class=\"dataframe\">\n",
       "  <thead>\n",
       "    <tr style=\"text-align: right;\">\n",
       "      <th></th>\n",
       "      <th>代码</th>\n",
       "      <th>名称</th>\n",
       "    </tr>\n",
       "  </thead>\n",
       "  <tbody>\n",
       "    <tr>\n",
       "      <th>4141</th>\n",
       "      <td>688126</td>\n",
       "      <td>沪硅产业-U</td>\n",
       "    </tr>\n",
       "  </tbody>\n",
       "</table>\n",
       "</div>"
      ],
      "text/plain": [
       "          代码      名称\n",
       "4141  688126  沪硅产业-U"
      ]
     },
     "execution_count": 57,
     "metadata": {},
     "output_type": "execute_result"
    }
   ],
   "source": [
    "df.loc[df['市盈率(动态)'] == df['市盈率(动态)'].min(), ['代码', '名称']]"
   ]
  },
  {
   "cell_type": "code",
   "execution_count": 58,
   "metadata": {},
   "outputs": [
    {
     "data": {
      "text/html": [
       "<div>\n",
       "<style scoped>\n",
       "    .dataframe tbody tr th:only-of-type {\n",
       "        vertical-align: middle;\n",
       "    }\n",
       "\n",
       "    .dataframe tbody tr th {\n",
       "        vertical-align: top;\n",
       "    }\n",
       "\n",
       "    .dataframe thead th {\n",
       "        text-align: right;\n",
       "    }\n",
       "</style>\n",
       "<table border=\"1\" class=\"dataframe\">\n",
       "  <thead>\n",
       "    <tr style=\"text-align: right;\">\n",
       "      <th></th>\n",
       "      <th>代码</th>\n",
       "      <th>名称</th>\n",
       "    </tr>\n",
       "  </thead>\n",
       "  <tbody>\n",
       "    <tr>\n",
       "      <th>1236</th>\n",
       "      <td>000670</td>\n",
       "      <td>*ST盈方</td>\n",
       "    </tr>\n",
       "  </tbody>\n",
       "</table>\n",
       "</div>"
      ],
      "text/plain": [
       "          代码     名称\n",
       "1236  000670  *ST盈方"
      ]
     },
     "execution_count": 58,
     "metadata": {},
     "output_type": "execute_result"
    }
   ],
   "source": [
    "df.loc[df['市净率'] == df['市净率'].max(), ['代码', '名称']]"
   ]
  },
  {
   "cell_type": "code",
   "execution_count": 59,
   "metadata": {},
   "outputs": [
    {
     "data": {
      "text/html": [
       "<div>\n",
       "<style scoped>\n",
       "    .dataframe tbody tr th:only-of-type {\n",
       "        vertical-align: middle;\n",
       "    }\n",
       "\n",
       "    .dataframe tbody tr th {\n",
       "        vertical-align: top;\n",
       "    }\n",
       "\n",
       "    .dataframe thead th {\n",
       "        text-align: right;\n",
       "    }\n",
       "</style>\n",
       "<table border=\"1\" class=\"dataframe\">\n",
       "  <thead>\n",
       "    <tr style=\"text-align: right;\">\n",
       "      <th></th>\n",
       "      <th>代码</th>\n",
       "      <th>名称</th>\n",
       "    </tr>\n",
       "  </thead>\n",
       "  <tbody>\n",
       "    <tr>\n",
       "      <th>1198</th>\n",
       "      <td>002188</td>\n",
       "      <td>ST巴士</td>\n",
       "    </tr>\n",
       "  </tbody>\n",
       "</table>\n",
       "</div>"
      ],
      "text/plain": [
       "          代码    名称\n",
       "1198  002188  ST巴士"
      ]
     },
     "execution_count": 59,
     "metadata": {},
     "output_type": "execute_result"
    }
   ],
   "source": [
    "df.loc[df['市净率'] == df['市净率'].min(), ['代码', '名称']]"
   ]
  }
 ],
 "metadata": {
  "kernelspec": {
   "display_name": "Python 3",
   "language": "python",
   "name": "python3"
  },
  "language_info": {
   "codemirror_mode": {
    "name": "ipython",
    "version": 3
   },
   "file_extension": ".py",
   "mimetype": "text/x-python",
   "name": "python",
   "nbconvert_exporter": "python",
   "pygments_lexer": "ipython3",
   "version": "3.8.3"
  }
 },
 "nbformat": 4,
 "nbformat_minor": 4
}
